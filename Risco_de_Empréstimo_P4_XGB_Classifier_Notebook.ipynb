{
  "cells": [
    {
      "cell_type": "markdown",
      "metadata": {
        "id": "_UPKdiGCm4K8"
      },
      "source": [
        "![svg image](data:image/svg+xml,%3Csvg%20version%3D%221.1%22%20id%3D%22Layer_1%22%20xmlns%3D%22http%3A%2F%2Fwww.w3.org%2F2000%2Fsvg%22%20xmlns%3Axlink%3D%22http%3A%2F%2Fwww.w3.org%2F1999%2Fxlink%22%20x%3D%220px%22%20y%3D%220px%22%0A%09%20viewBox%3D%220%200%201796%20100%22%20style%3D%22enable-background%3Anew%200%200%201796%20100%3B%22%20xml%3Aspace%3D%22preserve%22%3E%0A%3Cstyle%20type%3D%22text%2Fcss%22%3E%0A%09.st0%7Bfill-rule%3Aevenodd%3Bclip-rule%3Aevenodd%3Bfill%3Aurl%28%23SVGID_1_%29%3B%7D%0A%09.st1%7Bclip-path%3Aurl%28%23SVGID_00000178915391776407424850000007341318225791887491_%29%3B%7D%0A%09.st2%7Bfill%3Aurl%28%23SVGID_00000072959074018647863330000000566853838299270530_%29%3B%7D%0A%09.st3%7Bclip-path%3Aurl%28%23SVGID_00000088832798360344817880000014420072439252153242_%29%3B%7D%0A%09.st4%7Bfill%3Aurl%28%23SVGID_00000115487599576311285860000000799671087605023907_%29%3B%7D%0A%09.st5%7Bfill%3Anone%3Bstroke%3A%23FFFFFF%3Bstroke-width%3A2%3Bstroke-miterlimit%3A10%3B%7D%0A%09.st6%7Bfill%3Anone%3Bstroke%3A%23FFFFFF%3Bstroke-width%3A1.5%3Bstroke-miterlimit%3A10%3B%7D%0A%09.st7%7Bopacity%3A0.2%3Bfill%3Aurl%28%23SVGID_00000045580851177316760270000016912490179557547437_%29%3Benable-background%3Anew%20%20%20%20%3B%7D%0A%09.st8%7Bfill%3A%23FFFFFF%3B%7D%0A%09.st9%7Bfont-family%3A%27IBMPlexSans-Medium%27%3B%7D%0A%09.st10%7Bfont-size%3A32px%3B%7D%0A%09.st11%7Bfont-family%3A%27IBMPlexSans%27%3B%7D%0A%09.st12%7Bfill%3A%233D3D3D%3B%7D%0A%09.st13%7Bfill%3A%23939598%3B%7D%0A%3C%2Fstyle%3E%0A%3Crect%20width%3D%221796%22%20height%3D%22100%22%2F%3E%0A%3ClinearGradient%20id%3D%22SVGID_1_%22%20gradientUnits%3D%22userSpaceOnUse%22%20x1%3D%2242.8625%22%20y1%3D%221027.998%22%20x2%3D%2279.71%22%20y2%3D%221027.998%22%20gradientTransform%3D%22matrix%281%200%200%201%200%20-978%29%22%3E%0A%09%3Cstop%20%20offset%3D%220%22%20style%3D%22stop-color%3A%23AB74FF%22%2F%3E%0A%09%3Cstop%20%20offset%3D%220.21%22%20style%3D%22stop-color%3A%23866AFF%22%2F%3E%0A%09%3Cstop%20%20offset%3D%220.75%22%20style%3D%22stop-color%3A%232A4FFF%22%2F%3E%0A%09%3Cstop%20%20offset%3D%221%22%20style%3D%22stop-color%3A%230645FF%22%2F%3E%0A%3C%2FlinearGradient%3E%0A%3Cpath%20class%3D%22st0%22%20d%3D%22M52.4%2C45.9c0-2.3%2C1.8-4.1%2C4.1-4.1s4.1%2C1.8%2C4.1%2C4.1S58.8%2C50%2C56.5%2C50l0%2C0c-2.2%2C0.1-4-1.7-4.1-3.9%0A%09C52.4%2C46%2C52.4%2C46%2C52.4%2C45.9z%20M77.5%2C52.5c-0.8-1.1-1.4-2.3-1.9-3.5c1.2-4.5%2C0.7-8.6-1.8-11.9c-2.9-3.8-8.2-6-14.5-6.1%0A%09c-4.5-0.1-8.8%2C1.7-12%2C4.8c-3%2C3-4.6%2C7.2-4.5%2C11.5c-0.1%2C2.9%2C0.9%2C5.8%2C2.7%2C8.1c0.8%2C0.8%2C1.3%2C1.9%2C1.4%2C3v4.5c-0.8%2C0.5-1.4%2C1.3-1.4%2C2.3%0A%09c0.2%2C1.5%2C1.5%2C2.6%2C3%2C2.4c1.2-0.2%2C2.2-1.1%2C2.4-2.4c0-1-0.5-1.9-1.4-2.3v-4.5c0-2-1-3.3-1.9-4.6c-1.5-1.9-2.2-4.2-2.1-6.5%0A%09c0-3.5%2C1.4-6.9%2C3.8-9.4c2.7-2.7%2C6.3-4.1%2C10-4.1c5.5%2C0%2C9.8%2C1.9%2C12.1%2C5c2%2C2.8%2C2.5%2C6.3%2C1.4%2C9.6c-0.4%2C1.2%2C0.6%2C2.7%2C2.3%2C5.6%0A%09c0.6%2C0.9%2C1.2%2C1.9%2C1.6%2C2.9c-0.9%2C0.7-2%2C1.2-3.1%2C1.5c-0.5%2C0.4-0.7%2C0.9-0.8%2C1.5V65c0%2C0.4-0.1%2C0.8-0.4%2C1.1c-0.3%2C0.2-0.7%2C0.3-1.1%2C0.3%0A%09c-1.6-0.3-3.4-0.7-5.2-1.1v-4.8c0.8-0.5%2C1.4-1.4%2C1.4-2.3c0-1.5-1.2-2.7-2.7-2.7s-2.7%2C1.2-2.7%2C2.7c0%2C1%2C0.5%2C1.9%2C1.4%2C2.3v4.1%0A%09c-0.4-0.1-0.7-0.1-1.1-0.3c-4.5-1.1-4.5-2.6-4.5-3.4v-8.3c3.2-0.7%2C5.4-3.5%2C5.5-6.7c-0.1-3.8-3.3-6.7-7.1-6.6c-3.6%2C0.1-6.4%2C3-6.6%2C6.6%0A%09c0%2C3.2%2C2.3%2C6%2C5.5%2C6.7v8.3c0%2C2%2C0.7%2C4.6%2C6.6%2C6.1c3%2C0.8%2C6%2C1.5%2C9.1%2C1.9c0.3%2C0%2C0.6%2C0.1%2C0.8%2C0.1c1%2C0%2C1.9-0.3%2C2.6-1%0A%09c0.9-0.8%2C1.4-1.9%2C1.4-3.1v-4.5c2-0.8%2C4.1-2%2C4.1-3.7C79.7%2C55.9%2C79%2C54.6%2C77.5%2C52.5z%22%2F%3E%0A%3Cg%3E%0A%09%3Cg%3E%0A%09%09%3Cdefs%3E%0A%09%09%09%3Cpath%20id%3D%22SVGID_00000103988023533243019020000015870306665051389114_%22%20d%3D%22M52.4%2C45.9c0-2.3%2C1.8-4.1%2C4.1-4.1s4.1%2C1.8%2C4.1%2C4.1%0A%09%09%09%09S58.8%2C50%2C56.5%2C50l0%2C0c-2.2%2C0.1-4-1.7-4.1-3.9C52.4%2C46%2C52.4%2C46%2C52.4%2C45.9z%20M77.5%2C52.5c-0.8-1.1-1.4-2.3-1.9-3.5%0A%09%09%09%09c1.2-4.5%2C0.7-8.6-1.8-11.9c-2.9-3.8-8.2-6-14.5-6.1c-4.5-0.1-8.8%2C1.7-12%2C4.8c-3%2C3-4.6%2C7.2-4.5%2C11.5c-0.1%2C2.9%2C0.9%2C5.8%2C2.7%2C8.1%0A%09%09%09%09c0.8%2C0.8%2C1.3%2C1.9%2C1.4%2C3v4.5c-0.8%2C0.5-1.4%2C1.3-1.4%2C2.3c0.2%2C1.5%2C1.5%2C2.6%2C3%2C2.4c1.2-0.2%2C2.2-1.1%2C2.4-2.4c0-1-0.5-1.9-1.4-2.3v-4.5%0A%09%09%09%09c0-2-1-3.3-1.9-4.6c-1.5-1.9-2.2-4.2-2.1-6.5c0-3.5%2C1.4-6.9%2C3.8-9.4c2.7-2.7%2C6.3-4.1%2C10-4.1c5.5%2C0%2C9.8%2C1.9%2C12.1%2C5%0A%09%09%09%09c2%2C2.8%2C2.5%2C6.3%2C1.4%2C9.6c-0.4%2C1.2%2C0.6%2C2.7%2C2.3%2C5.6c0.6%2C0.9%2C1.2%2C1.9%2C1.6%2C2.9c-0.9%2C0.7-2%2C1.2-3.1%2C1.5c-0.5%2C0.4-0.7%2C0.9-0.8%2C1.5V65%0A%09%09%09%09c0%2C0.4-0.1%2C0.8-0.4%2C1.1c-0.3%2C0.2-0.7%2C0.3-1.1%2C0.3c-1.6-0.3-3.4-0.7-5.2-1.1v-4.8c0.8-0.5%2C1.4-1.4%2C1.4-2.3c0-1.5-1.2-2.7-2.7-2.7%0A%09%09%09%09s-2.7%2C1.2-2.7%2C2.7c0%2C1%2C0.5%2C1.9%2C1.4%2C2.3v4.1c-0.4-0.1-0.7-0.1-1.1-0.3c-4.5-1.1-4.5-2.6-4.5-3.4v-8.3c3.2-0.7%2C5.4-3.5%2C5.5-6.7%0A%09%09%09%09c-0.1-3.8-3.3-6.7-7.1-6.6c-3.6%2C0.1-6.4%2C3-6.6%2C6.6c0%2C3.2%2C2.3%2C6%2C5.5%2C6.7v8.3c0%2C2%2C0.7%2C4.6%2C6.6%2C6.1c3%2C0.8%2C6%2C1.5%2C9.1%2C1.9%0A%09%09%09%09c0.3%2C0%2C0.6%2C0.1%2C0.8%2C0.1c1%2C0%2C1.9-0.3%2C2.6-1c0.9-0.8%2C1.4-1.9%2C1.4-3.1v-4.5c2-0.8%2C4.1-2%2C4.1-3.7C79.7%2C55.9%2C79%2C54.6%2C77.5%2C52.5z%22%2F%3E%0A%09%09%3C%2Fdefs%3E%0A%09%09%3CclipPath%20id%3D%22SVGID_00000163075222211376611200000003176213376109670824_%22%3E%0A%09%09%09%3Cuse%20xlink%3Ahref%3D%22%23SVGID_00000103988023533243019020000015870306665051389114_%22%20%20style%3D%22overflow%3Avisible%3B%22%2F%3E%0A%09%09%3C%2FclipPath%3E%0A%09%09%3Cg%20style%3D%22clip-path%3Aurl%28%23SVGID_00000163075222211376611200000003176213376109670824_%29%3B%22%3E%0A%09%09%09%0A%09%09%09%09%3ClinearGradient%20id%3D%22SVGID_00000111891139058751766020000017047336746994893708_%22%20gradientUnits%3D%22userSpaceOnUse%22%20x1%3D%22-1341.4%22%20y1%3D%22805.5%22%20x2%3D%22449.7%22%20y2%3D%22805.5%22%20gradientTransform%3D%22matrix%281%200%200%201%200%20-978%29%22%3E%0A%09%09%09%09%3Cstop%20%20offset%3D%220%22%20style%3D%22stop-color%3A%23AB74FF%22%2F%3E%0A%09%09%09%09%3Cstop%20%20offset%3D%220.21%22%20style%3D%22stop-color%3A%23866AFF%22%2F%3E%0A%09%09%09%09%3Cstop%20%20offset%3D%220.75%22%20style%3D%22stop-color%3A%232A4FFF%22%2F%3E%0A%09%09%09%09%3Cstop%20%20offset%3D%221%22%20style%3D%22stop-color%3A%230645FF%22%2F%3E%0A%09%09%09%3C%2FlinearGradient%3E%0A%09%09%09%0A%09%09%09%09%3Crect%20x%3D%22-1341.4%22%20y%3D%22-876.9%22%20style%3D%22fill%3Aurl%28%23SVGID_00000111891139058751766020000017047336746994893708_%29%3B%22%20width%3D%221791.1%22%20height%3D%221408.8%22%2F%3E%0A%09%09%09%3Cg%3E%0A%09%09%09%09%3Cg%3E%0A%09%09%09%09%09%3Cdefs%3E%0A%09%09%09%09%09%09%0A%09%09%09%09%09%09%09%3Crect%20id%3D%22SVGID_00000103231572956238640970000011034158940870041505_%22%20x%3D%22-1341.4%22%20y%3D%22-876.9%22%20width%3D%221791.1%22%20height%3D%221408.8%22%2F%3E%0A%09%09%09%09%09%3C%2Fdefs%3E%0A%09%09%09%09%09%3CclipPath%20id%3D%22SVGID_00000076562667476129641040000017034118924293963927_%22%3E%0A%09%09%09%09%09%09%3Cuse%20xlink%3Ahref%3D%22%23SVGID_00000103231572956238640970000011034158940870041505_%22%20%20style%3D%22overflow%3Avisible%3B%22%2F%3E%0A%09%09%09%09%09%3C%2FclipPath%3E%0A%09%09%09%09%09%3Cg%20style%3D%22clip-path%3Aurl%28%23SVGID_00000076562667476129641040000017034118924293963927_%29%3B%22%3E%0A%09%09%09%09%09%09%0A%09%09%09%09%09%09%09%3ClinearGradient%20id%3D%22SVGID_00000002353593499038243250000000421055474946009746_%22%20gradientUnits%3D%22userSpaceOnUse%22%20x1%3D%2236%22%20y1%3D%221028.05%22%20x2%3D%2286.5%22%20y2%3D%221028.05%22%20gradientTransform%3D%22matrix%281%200%200%201%200%20-978%29%22%3E%0A%09%09%09%09%09%09%09%3Cstop%20%20offset%3D%220%22%20style%3D%22stop-color%3A%23AB74FF%22%2F%3E%0A%09%09%09%09%09%09%09%3Cstop%20%20offset%3D%220.21%22%20style%3D%22stop-color%3A%23866AFF%22%2F%3E%0A%09%09%09%09%09%09%09%3Cstop%20%20offset%3D%220.75%22%20style%3D%22stop-color%3A%232A4FFF%22%2F%3E%0A%09%09%09%09%09%09%09%3Cstop%20%20offset%3D%221%22%20style%3D%22stop-color%3A%230645FF%22%2F%3E%0A%09%09%09%09%09%09%3C%2FlinearGradient%3E%0A%09%09%09%09%09%09%0A%09%09%09%09%09%09%09%3Crect%20x%3D%2236%22%20y%3D%2224.1%22%20style%3D%22fill%3Aurl%28%23SVGID_00000002353593499038243250000000421055474946009746_%29%3B%22%20width%3D%2250.5%22%20height%3D%2251.9%22%2F%3E%0A%09%09%09%09%09%3C%2Fg%3E%0A%09%09%09%09%3C%2Fg%3E%0A%09%09%09%3C%2Fg%3E%0A%09%09%3C%2Fg%3E%0A%09%3C%2Fg%3E%0A%3C%2Fg%3E%0A%3Ccircle%20class%3D%22st5%22%20cx%3D%2256.5%22%20cy%3D%2245.9%22%20r%3D%225.4%22%2F%3E%0A%3Ccircle%20class%3D%22st6%22%20cx%3D%2248.3%22%20cy%3D%2265%22%20r%3D%221.6%22%2F%3E%0A%3Ccircle%20class%3D%22st6%22%20cx%3D%2264.8%22%20cy%3D%2258.2%22%20r%3D%221.6%22%2F%3E%0A%3ClinearGradient%20id%3D%22SVGID_00000124860236446931535290000008328801365185342639_%22%20gradientUnits%3D%22userSpaceOnUse%22%20x1%3D%22773.8%22%20y1%3D%221028%22%20x2%3D%221796%22%20y2%3D%221028%22%20gradientTransform%3D%22matrix%281%200%200%201%200%20-978%29%22%3E%0A%09%3Cstop%20%20offset%3D%220%22%20style%3D%22stop-color%3A%23161616%22%2F%3E%0A%09%3Cstop%20%20offset%3D%220.52%22%20style%3D%22stop-color%3A%23AB74FF%22%2F%3E%0A%09%3Cstop%20%20offset%3D%220.62%22%20style%3D%22stop-color%3A%23866AFF%22%2F%3E%0A%09%3Cstop%20%20offset%3D%220.88%22%20style%3D%22stop-color%3A%232A4FFF%22%2F%3E%0A%09%3Cstop%20%20offset%3D%221%22%20style%3D%22stop-color%3A%230645FF%22%2F%3E%0A%3C%2FlinearGradient%3E%0A%3Crect%20x%3D%22773.8%22%20style%3D%22opacity%3A0.2%3Bfill%3Aurl%28%23SVGID_00000124860236446931535290000008328801365185342639_%29%3Benable-background%3Anew%20%20%20%20%3B%22%20width%3D%221022.2%22%20height%3D%22100%22%2F%3E%0A%3Ctext%20transform%3D%22matrix%281%200%200%201%201498.5952%2059.46%29%22%20class%3D%22st8%20st9%20st10%22%3EPipeline%20notebook%3C%2Ftext%3E%0A%3Ctext%20transform%3D%22matrix%281%200%200%201%20101.02%2059.33%29%22%20class%3D%22st8%20st11%20st10%22%3EAutoAI%3C%2Ftext%3E%0A%3Crect%20x%3D%22231.1%22%20y%3D%2234%22%20class%3D%22st12%22%20width%3D%221%22%20height%3D%2232%22%2F%3E%0A%3Ctext%20transform%3D%22matrix%281%200%200%201%20256.29%2059.66%29%22%20class%3D%22st13%20st11%20st10%22%3EPart%20of%20IBM%20Watson%C2%AE%20Studio%3C%2Ftext%3E%0A%3C%2Fsvg%3E)\n",
        "# Pipeline 4 Notebook - AutoAI Notebook v2.1.6\n",
        "\n",
        "Consider these tips for working with an auto-generated notebook:\n",
        "- Notebook code generated using AutoAI will execute successfully. If you modify the notebook, we cannot guarantee it will run successfully.\n",
        "- This pipeline is optimized for the original data set. The pipeline might fail or produce sub-optimal results if used with different data.  If you want to use a different data set, consider retraining the AutoAI experiment to generate a new pipeline. For more information, see <a href=\"https://dataplatform.cloud.ibm.com/docs/content/wsj/analyze-data/autoai-notebook.html\">Cloud Platform</a>.\n",
        "- Before modifying the pipeline or trying to re-fit the pipeline, consider that the code converts dataframes to numpy arrays before fitting the pipeline (a current restriction of the preprocessor pipeline).\n"
      ]
    },
    {
      "cell_type": "markdown",
      "metadata": {
        "id": "hZPzHxLUm4LA"
      },
      "source": [
        "<a id=\"content\"></a>\n",
        "## Notebook content\n",
        "\n",
        "This notebook contains a Scikit-learn representation of AutoAI pipeline. This notebook introduces commands for retrieving data, training the model, and testing the model.\n",
        "\n",
        "Some familiarity with Python is helpful. This notebook uses Python 3.11 and scikit-learn 1.3."
      ]
    },
    {
      "cell_type": "markdown",
      "metadata": {
        "pycharm": {
          "name": "#%% md\n"
        },
        "id": "61V7qAfBm4LA"
      },
      "source": [
        "## Notebook goals\n",
        "\n",
        "-  Scikit-learn pipeline definition\n",
        "-  Pipeline training\n",
        "-  Pipeline evaluation\n",
        "\n",
        "## Contents\n",
        "\n",
        "This notebook contains the following parts:\n",
        "\n",
        "**[Setup](#Setup)**<br>\n",
        "&nbsp;&nbsp;[Package installation](#Package-installation)<br>\n",
        "&nbsp;&nbsp;[AutoAI experiment metadata](#AutoAI-experiment-metadata)<br>\n",
        "&nbsp;&nbsp;[Watson Machine Learning connection](#Watson-Machine-Learning-connection)<br>\n",
        "**[Pipeline inspection](#Pipeline-inspection)** <br>\n",
        "&nbsp;&nbsp;[Read training data](#Read-training-data)<br>\n",
        "&nbsp;&nbsp;[Create pipeline](#Create-pipeline)<br>\n",
        "&nbsp;&nbsp;[Train pipeline model](#Train-pipeline-model)<br>\n",
        "&nbsp;&nbsp;[Test pipeline model](#Test-pipeline-model)<br>\n",
        "**[Store the model](#Store-the-model)**<br>\n",
        "**[Summary and next steps](#Summary-and-next-steps)**<br>\n",
        "**[Copyrights](#Copyrights)**"
      ]
    },
    {
      "cell_type": "markdown",
      "metadata": {
        "id": "l_2MdC3Mm4LB"
      },
      "source": [
        "<a id=\"setup\"></a>\n",
        "# Setup"
      ]
    },
    {
      "cell_type": "markdown",
      "metadata": {
        "id": "i7ihK-k8m4LB"
      },
      "source": [
        "<a id=\"install\"></a>\n",
        "## Package installation\n",
        "Before you use the sample code in this notebook, install the following packages:\n",
        " - ibm-watsonx-ai,\n",
        " - autoai-libs,\n",
        " - scikit-learn,\n",
        " - xgboost\n"
      ]
    },
    {
      "cell_type": "code",
      "execution_count": null,
      "metadata": {
        "execution": {
          "iopub.execute_input": "2020-10-12T14:00:45.009458Z",
          "iopub.status.busy": "2020-10-12T14:00:45.007968Z",
          "iopub.status.idle": "2020-10-12T14:00:46.037702Z",
          "shell.execute_reply": "2020-10-12T14:00:46.038270Z"
        },
        "pycharm": {
          "name": "#%%\n"
        },
        "scrolled": true,
        "colab": {
          "base_uri": "https://localhost:8080/",
          "height": 798
        },
        "id": "0ZlO0meNm4LC",
        "outputId": "7d00a41d-50f4-4c72-e4de-2df87b6622b9"
      },
      "outputs": [
        {
          "output_type": "stream",
          "name": "stdout",
          "text": [
            "Requirement already satisfied: typing_extensions>=4.5 in /usr/local/lib/python3.11/dist-packages (from anyio->httpx<0.29,>=0.27->ibm-watsonx-ai) (4.14.0)\n",
            "\u001b[31mERROR: pip's dependency resolver does not currently take into account all the packages that are installed. This behaviour is the source of the following dependency conflicts.\n",
            "onnxconverter-common 1.14.0 requires protobuf==3.20.2, but you have protobuf 6.31.1 which is incompatible.\n",
            "google-ai-generativelanguage 0.6.15 requires protobuf!=4.21.0,!=4.21.1,!=4.21.2,!=4.21.3,!=4.21.4,!=4.21.5,<6.0.0dev,>=3.20.2, but you have protobuf 6.31.1 which is incompatible.\n",
            "tensorflow-metadata 1.17.1 requires protobuf<6.0.0,>=4.25.2; python_version >= \"3.11\", but you have protobuf 6.31.1 which is incompatible.\n",
            "ydf 0.12.0 requires protobuf<6.0.0,>=5.29.1, but you have protobuf 6.31.1 which is incompatible.\n",
            "tensorflow 2.18.0 requires protobuf!=4.21.0,!=4.21.1,!=4.21.2,!=4.21.3,!=4.21.4,!=4.21.5,<6.0.0dev,>=3.20.3, but you have protobuf 6.31.1 which is incompatible.\n",
            "grpcio-status 1.71.0 requires protobuf<6.0dev,>=5.26.1, but you have protobuf 6.31.1 which is incompatible.\u001b[0m\u001b[31m\n",
            "\u001b[0mSuccessfully installed protobuf-6.31.1\n"
          ]
        },
        {
          "output_type": "display_data",
          "data": {
            "application/vnd.colab-display-data+json": {
              "pip_warning": {
                "packages": [
                  "google"
                ]
              },
              "id": "9d8dbb0356544512a73a953a18f77216"
            }
          },
          "metadata": {}
        },
        {
          "output_type": "stream",
          "name": "stdout",
          "text": [
            "Requirement already satisfied: threadpoolctl>=2.0.0 in /usr/local/lib/python3.11/dist-packages (from scikit-learn==1.3.*) (3.6.0)\n",
            "Requirement already satisfied: sortedcontainers~=2.2 in /usr/local/lib/python3.11/dist-packages (from portion->jsonsubschema>=0.0.6->lale~=0.8.3) (2.4.0)\n",
            "Requirement already satisfied: scipy in /usr/local/lib/python3.11/dist-packages (from xgboost==2.0.*) (1.13.1)\n",
            "Requirement already satisfied: onnxconverter-common in /usr/local/lib/python3.11/dist-packages (1.14.0)\n",
            "Requirement already satisfied: numpy in /usr/local/lib/python3.11/dist-packages (from onnxconverter-common) (1.26.4)\n",
            "Requirement already satisfied: onnx in /usr/local/lib/python3.11/dist-packages (from onnxconverter-common) (1.16.0)\n",
            "Requirement already satisfied: packaging in /usr/local/lib/python3.11/dist-packages (from onnxconverter-common) (24.2)\n",
            "Collecting protobuf==3.20.2 (from onnxconverter-common)\n",
            "  Using cached protobuf-3.20.2-py2.py3-none-any.whl.metadata (720 bytes)\n",
            "Using cached protobuf-3.20.2-py2.py3-none-any.whl (162 kB)\n",
            "Installing collected packages: protobuf\n",
            "  Attempting uninstall: protobuf\n",
            "    Found existing installation: protobuf 6.31.1\n",
            "    Uninstalling protobuf-6.31.1:\n",
            "      Successfully uninstalled protobuf-6.31.1\n",
            "\u001b[31mERROR: pip's dependency resolver does not currently take into account all the packages that are installed. This behaviour is the source of the following dependency conflicts.\n",
            "autoai-libs 2.0.16 requires protobuf>=4.21.12, but you have protobuf 3.20.2 which is incompatible.\n",
            "tensorflow-metadata 1.17.1 requires protobuf<6.0.0,>=4.25.2; python_version >= \"3.11\", but you have protobuf 3.20.2 which is incompatible.\n",
            "ydf 0.12.0 requires protobuf<6.0.0,>=5.29.1, but you have protobuf 3.20.2 which is incompatible.\n",
            "tensorflow 2.18.0 requires protobuf!=4.21.0,!=4.21.1,!=4.21.2,!=4.21.3,!=4.21.4,!=4.21.5,<6.0.0dev,>=3.20.3, but you have protobuf 3.20.2 which is incompatible.\n",
            "grpcio-status 1.71.0 requires protobuf<6.0dev,>=5.26.1, but you have protobuf 3.20.2 which is incompatible.\u001b[0m\u001b[31m\n",
            "\u001b[0mSuccessfully installed protobuf-3.20.2\n"
          ]
        },
        {
          "output_type": "display_data",
          "data": {
            "application/vnd.colab-display-data+json": {
              "pip_warning": {
                "packages": [
                  "google"
                ]
              },
              "id": "f1c0cfe963d64e4d8819aaf496942f9a"
            }
          },
          "metadata": {}
        }
      ],
      "source": [
        "!pip install ibm-watsonx-ai | tail -n 1\n",
        "!pip install autoai-libs~=2.0 | tail -n 1\n",
        "!pip install scikit-learn==1.3.* | tail -n 1\n",
        "!pip install -U lale~=0.8.3 | tail -n 1\n",
        "!pip install xgboost==2.0.* | tail -n 1\n",
        "!pip install onnxconverter-common"
      ]
    },
    {
      "cell_type": "markdown",
      "metadata": {
        "id": "tg8_PiKUm4LD"
      },
      "source": [
        "Filter warnings for this notebook."
      ]
    },
    {
      "cell_type": "code",
      "execution_count": null,
      "metadata": {
        "id": "wDYm1qe6m4LD"
      },
      "outputs": [],
      "source": [
        "import warnings\n",
        "\n",
        "warnings.filterwarnings('ignore')"
      ]
    },
    {
      "cell_type": "markdown",
      "metadata": {
        "id": "onzzcvePm4LE"
      },
      "source": [
        "<a id=\"variables_definition\"></a>\n",
        "## AutoAI experiment metadata\n",
        "The following cell contains the training data connection details.  \n",
        "**Note**: The connection might contain authorization credentials, so be careful when sharing the notebook."
      ]
    },
    {
      "cell_type": "code",
      "execution_count": null,
      "metadata": {
        "execution": {
          "iopub.execute_input": "2020-10-12T14:00:49.797633Z",
          "iopub.status.busy": "2020-10-12T14:00:49.796778Z",
          "iopub.status.idle": "2020-10-12T14:00:57.182715Z",
          "shell.execute_reply": "2020-10-12T14:00:57.183132Z"
        },
        "pycharm": {
          "is_executing": true
        },
        "id": "pjlbegEym4LE"
      },
      "outputs": [],
      "source": [
        "from ibm_watsonx_ai.helpers import DataConnection\n",
        "from ibm_watsonx_ai.helpers import ContainerLocation\n",
        "\n",
        "training_data_references = [\n",
        "    DataConnection(\n",
        "        data_asset_id='565235f5-2802-43fd-af8c-bd2e50cff201'\n",
        "    ),\n",
        "]\n",
        "training_result_reference = DataConnection(\n",
        "    location=ContainerLocation(\n",
        "        path='auto_ml/3ad0fd8f-3ef0-4744-93e1-72fa14a60fa7/wml_data/acd802b6-9220-4011-a966-bd34255761c9/data/automl',\n",
        "        model_location='auto_ml/3ad0fd8f-3ef0-4744-93e1-72fa14a60fa7/wml_data/acd802b6-9220-4011-a966-bd34255761c9/data/automl/model.zip',\n",
        "        training_status='auto_ml/3ad0fd8f-3ef0-4744-93e1-72fa14a60fa7/wml_data/acd802b6-9220-4011-a966-bd34255761c9/training-status.json'\n",
        "    )\n",
        ")"
      ]
    },
    {
      "cell_type": "markdown",
      "metadata": {
        "id": "9IJZDSGam4LE"
      },
      "source": [
        "The following cell contains input parameters provided to run the AutoAI experiment in Watson Studio."
      ]
    },
    {
      "cell_type": "code",
      "execution_count": null,
      "metadata": {
        "execution": {
          "iopub.execute_input": "2020-10-12T14:00:57.187305Z",
          "iopub.status.busy": "2020-10-12T14:00:57.186602Z",
          "iopub.status.idle": "2020-10-12T14:00:57.188392Z",
          "shell.execute_reply": "2020-10-12T14:00:57.188878Z"
        },
        "pycharm": {
          "name": "#%%\n"
        },
        "id": "hPrKAnmCm4LE"
      },
      "outputs": [],
      "source": [
        "experiment_metadata = dict(\n",
        "    prediction_type='binary',\n",
        "    prediction_column='Risk',\n",
        "    holdout_size=0.1,\n",
        "    scoring='accuracy',\n",
        "    csv_separator=',',\n",
        "    random_state=33,\n",
        "    max_number_of_estimators=2,\n",
        "    training_data_references=training_data_references,\n",
        "    training_result_reference=training_result_reference,\n",
        "    include_only_estimators=['RandomForestClassifierEstimator', 'DecisionTreeClassifierEstimator', 'LogisticRegressionEstimator', 'ExtraTreesClassifierEstimator', 'XGBClassifierEstimator', 'LGBMClassifierEstimator', 'SnapDecisionTreeClassifierEstimator', 'SnapRandomForestClassifierEstimator', 'SnapBoostingMachineClassifierEstimator', 'SnapLogisticRegressionEstimator', 'SnapSVMClassifierEstimator', 'GradientBoostingClassifierEstimator'],\n",
        "    deployment_url='https://us-south.ml.cloud.ibm.com',\n",
        "    project_id='53f5ac35-4b57-48dc-9971-d3a4032814ae',\n",
        "    train_sample_columns_index_list=[0, 1, 2, 3, 4, 5, 6, 7, 8, 9, 10, 11, 12, 13, 14, 15, 16, 17, 19],\n",
        "    positive_label='No Risk',\n",
        "    drop_duplicates=True,\n",
        "    include_batched_ensemble_estimators=[],\n",
        "    feature_selector_mode='auto'\n",
        ")"
      ]
    },
    {
      "cell_type": "markdown",
      "metadata": {
        "id": "V1ut57K_m4LE"
      },
      "source": [
        "## Set `n_jobs` parameter to the number of available CPUs"
      ]
    },
    {
      "cell_type": "code",
      "execution_count": null,
      "metadata": {
        "id": "kaK4UlRhm4LE"
      },
      "outputs": [],
      "source": [
        "import os, ast\n",
        "CPU_NUMBER = 4\n",
        "if 'RUNTIME_HARDWARE_SPEC' in os.environ:\n",
        "    CPU_NUMBER = int(ast.literal_eval(os.environ['RUNTIME_HARDWARE_SPEC'])['num_cpu'])"
      ]
    },
    {
      "cell_type": "markdown",
      "metadata": {
        "id": "j5Y3Dqinm4LE"
      },
      "source": [
        "<a id=\"connection\"></a>\n",
        "## Watson Machine Learning connection\n",
        "\n",
        "This cell defines the credentials required to work with the Watson Machine Learning service.\n",
        "\n",
        "**Action**: Provide the IBM Cloud apikey, For details, see [documentation](https://cloud.ibm.com/docs/account?topic=account-userapikey)."
      ]
    },
    {
      "cell_type": "code",
      "execution_count": null,
      "metadata": {
        "colab": {
          "base_uri": "https://localhost:8080/"
        },
        "id": "8hdN7I4Dm4LE",
        "outputId": "797ce328-3a25-4339-baaa-c46402d28e8c"
      },
      "outputs": [
        {
          "name": "stdout",
          "output_type": "stream",
          "text": [
            "Please enter your api key (press enter): ··········\n"
          ]
        }
      ],
      "source": [
        "import getpass\n",
        "\n",
        "api_key = getpass.getpass(\"Please enter your api key (press enter): \")"
      ]
    },
    {
      "cell_type": "code",
      "execution_count": null,
      "metadata": {
        "id": "wHkdwMGdm4LE"
      },
      "outputs": [],
      "source": [
        "from ibm_watsonx_ai import Credentials\n",
        "\n",
        "credentials = Credentials(\n",
        "    api_key=api_key,\n",
        "    url=experiment_metadata['deployment_url']\n",
        ")"
      ]
    },
    {
      "cell_type": "code",
      "execution_count": null,
      "metadata": {
        "id": "ZZM6awHum4LF"
      },
      "outputs": [],
      "source": [
        "from ibm_watsonx_ai import APIClient\n",
        "\n",
        "client = APIClient(credentials)\n",
        "\n",
        "if 'space_id' in experiment_metadata:\n",
        "    client.set.default_space(experiment_metadata['space_id'])\n",
        "else:\n",
        "    client.set.default_project(experiment_metadata['project_id'])\n",
        "\n",
        "training_data_references[0].set_client(client)"
      ]
    },
    {
      "cell_type": "markdown",
      "metadata": {
        "id": "6qnRCsuHm4LF"
      },
      "source": [
        "<a id=\"inspection\"></a>\n",
        "# Pipeline inspection"
      ]
    },
    {
      "cell_type": "markdown",
      "metadata": {
        "id": "pSiWr0_Fm4LF"
      },
      "source": [
        "<a id=\"read\"></a>\n",
        "## Read training data\n",
        "\n",
        "Retrieve training dataset from AutoAI experiment as pandas DataFrame.\n",
        "\n",
        "**Note**: If reading data results in an error, provide data as Pandas DataFrame object, for example, reading .CSV file with `pandas.read_csv()`.\n",
        "\n",
        "It may be necessary to use methods for initial data pre-processing like: e.g. `DataFrame.dropna()`, `DataFrame.drop_duplicates()`, `DataFrame.sample()`.\n"
      ]
    },
    {
      "cell_type": "code",
      "execution_count": null,
      "metadata": {
        "execution": {
          "iopub.execute_input": "2020-10-12T14:01:16.076169Z",
          "iopub.status.busy": "2020-10-12T14:01:16.075589Z",
          "iopub.status.idle": "2020-10-12T14:01:19.190233Z",
          "shell.execute_reply": "2020-10-12T14:01:19.190807Z"
        },
        "pycharm": {
          "is_executing": true,
          "name": "#%%\n"
        },
        "id": "eLDS3v92m4LF"
      },
      "outputs": [],
      "source": [
        "X_train, X_test, y_train, y_test = training_data_references[0].read(experiment_metadata=experiment_metadata, with_holdout_split=True, use_flight=True)"
      ]
    },
    {
      "cell_type": "markdown",
      "metadata": {
        "pycharm": {
          "name": "#%% md\n"
        },
        "id": "MlYmrOoQm4LF"
      },
      "source": [
        "<a id=\"preview_model_to_python_code\"></a>\n",
        "## Create pipeline\n",
        "In the next cell, you can find the Scikit-learn definition of the selected AutoAI pipeline."
      ]
    },
    {
      "cell_type": "markdown",
      "metadata": {
        "pycharm": {
          "name": "#%% md\n"
        },
        "id": "2RRvzfwPm4LF"
      },
      "source": [
        "#### Import statements."
      ]
    },
    {
      "cell_type": "code",
      "execution_count": null,
      "metadata": {
        "pycharm": {
          "is_executing": true,
          "name": "#%%\n"
        },
        "id": "TpNBtn_zm4LF"
      },
      "outputs": [],
      "source": [
        "from autoai_libs.transformers.exportable import ColumnSelector\n",
        "from autoai_libs.transformers.exportable import NumpyColumnSelector\n",
        "from autoai_libs.transformers.exportable import CompressStrings\n",
        "from autoai_libs.transformers.exportable import NumpyReplaceMissingValues\n",
        "from autoai_libs.transformers.exportable import NumpyReplaceUnknownValues\n",
        "from autoai_libs.transformers.exportable import boolean2float\n",
        "from autoai_libs.transformers.exportable import CatImputer\n",
        "from autoai_libs.transformers.exportable import CatEncoder\n",
        "import numpy as np\n",
        "from autoai_libs.transformers.exportable import float32_transform\n",
        "from sklearn.pipeline import make_pipeline\n",
        "from autoai_libs.transformers.exportable import FloatStr2Float\n",
        "from autoai_libs.transformers.exportable import NumImputer\n",
        "from autoai_libs.transformers.exportable import OptStandardScaler\n",
        "from sklearn.pipeline import make_union\n",
        "from autoai_libs.transformers.exportable import NumpyPermuteArray\n",
        "from autoai_libs.cognito.transforms.transform_utils import TAM\n",
        "from sklearn.cluster import FeatureAgglomeration\n",
        "from autoai_libs.cognito.transforms.transform_utils import FS1\n",
        "from autoai_libs.estimators.xgboost import XGBClassifier"
      ]
    },
    {
      "cell_type": "markdown",
      "metadata": {
        "id": "uy14cveHm4LF"
      },
      "source": [
        "#### Pre-processing & Estimator."
      ]
    },
    {
      "cell_type": "code",
      "execution_count": null,
      "metadata": {
        "pycharm": {
          "is_executing": true,
          "name": "#%%\n"
        },
        "id": "D6s594qUm4LF"
      },
      "outputs": [],
      "source": [
        "column_selector_0 = ColumnSelector(\n",
        "    columns_indices_list=[\n",
        "        0, 1, 2, 3, 4, 5, 6, 7, 8, 9, 10, 11, 12, 13, 14, 15, 16, 17, 19,\n",
        "    ]\n",
        ")\n",
        "numpy_column_selector_0 = NumpyColumnSelector(\n",
        "    columns=[0, 1, 2, 3, 5, 6, 7, 8, 9, 10, 11, 12, 13, 14, 15, 16, 17, 18]\n",
        ")\n",
        "compress_strings = CompressStrings(\n",
        "    compress_type=\"hash\",\n",
        "    dtypes_list=[\n",
        "        \"char_str\", \"float_int_num\", \"char_str\", \"char_str\", \"char_str\",\n",
        "        \"char_str\", \"float_int_num\", \"char_str\", \"char_str\", \"float_int_num\",\n",
        "        \"char_str\", \"float_int_num\", \"char_str\", \"char_str\", \"float_int_num\",\n",
        "        \"char_str\", \"float_int_num\", \"char_str\",\n",
        "    ],\n",
        "    missing_values_reference_list=[\"\", \"-\", \"?\", float(\"nan\")],\n",
        "    misslist_list=[\n",
        "        [], [], [], [], [], [], [], [], [], [], [], [], [], [], [], [], [],\n",
        "        [],\n",
        "    ],\n",
        ")\n",
        "numpy_replace_missing_values_0 = NumpyReplaceMissingValues(\n",
        "    filling_values=float(\"nan\"), missing_values=[]\n",
        ")\n",
        "numpy_replace_unknown_values = NumpyReplaceUnknownValues(\n",
        "    filling_values=float(\"nan\"),\n",
        "    filling_values_list=[\n",
        "        float(\"nan\"), 100001, float(\"nan\"), float(\"nan\"), float(\"nan\"),\n",
        "        float(\"nan\"), 100001, float(\"nan\"), float(\"nan\"), 100001,\n",
        "        float(\"nan\"), 100001, float(\"nan\"), float(\"nan\"), 100001,\n",
        "        float(\"nan\"), 100001, float(\"nan\"),\n",
        "    ],\n",
        "    missing_values_reference_list=[\"\", \"-\", \"?\", float(\"nan\")],\n",
        ")\n",
        "cat_imputer = CatImputer(\n",
        "    missing_values=float(\"nan\"),\n",
        "    sklearn_version_family=\"1\",\n",
        "    strategy=\"most_frequent\",\n",
        ")\n",
        "cat_encoder = CatEncoder(\n",
        "    dtype=np.float64,\n",
        "    handle_unknown=\"error\",\n",
        "    sklearn_version_family=\"1\",\n",
        "    encoding=\"ordinal\",\n",
        "    categories=\"auto\",\n",
        ")\n",
        "pipeline_0 = make_pipeline(\n",
        "    column_selector_0,\n",
        "    numpy_column_selector_0,\n",
        "    compress_strings,\n",
        "    numpy_replace_missing_values_0,\n",
        "    numpy_replace_unknown_values,\n",
        "    boolean2float(),\n",
        "    cat_imputer,\n",
        "    cat_encoder,\n",
        "    float32_transform(),\n",
        ")\n",
        "column_selector_1 = ColumnSelector(\n",
        "    columns_indices_list=[\n",
        "        0, 1, 2, 3, 4, 5, 6, 7, 8, 9, 10, 11, 12, 13, 14, 15, 16, 17, 19,\n",
        "    ]\n",
        ")\n",
        "numpy_column_selector_1 = NumpyColumnSelector(columns=[4])\n",
        "float_str2_float = FloatStr2Float(\n",
        "    dtypes_list=[\"float_int_num\"], missing_values_reference_list=[]\n",
        ")\n",
        "numpy_replace_missing_values_1 = NumpyReplaceMissingValues(\n",
        "    filling_values=float(\"nan\"), missing_values=[]\n",
        ")\n",
        "num_imputer = NumImputer(missing_values=float(\"nan\"), strategy=\"median\")\n",
        "opt_standard_scaler = OptStandardScaler(use_scaler_flag=False)\n",
        "pipeline_1 = make_pipeline(\n",
        "    column_selector_1,\n",
        "    numpy_column_selector_1,\n",
        "    float_str2_float,\n",
        "    numpy_replace_missing_values_1,\n",
        "    num_imputer,\n",
        "    opt_standard_scaler,\n",
        "    float32_transform(),\n",
        ")\n",
        "union = make_union(pipeline_0, pipeline_1)\n",
        "numpy_permute_array = NumpyPermuteArray(\n",
        "    axis=0,\n",
        "    permutation_indices=[\n",
        "        0, 1, 2, 3, 5, 6, 7, 8, 9, 10, 11, 12, 13, 14, 15, 16, 17, 18, 4,\n",
        "    ],\n",
        ")\n",
        "tam = TAM(\n",
        "    tans_class=FeatureAgglomeration(),\n",
        "    name=\"featureagglomeration\",\n",
        "    col_names=[\n",
        "        \"CheckingStatus\", \"LoanDuration\", \"CreditHistory\", \"LoanPurpose\",\n",
        "        \"LoanAmount\", \"ExistingSavings\", \"EmploymentDuration\",\n",
        "        \"InstallmentPercent\", \"Sex\", \"OthersOnLoan\",\n",
        "        \"CurrentResidenceDuration\", \"OwnsProperty\", \"Age\", \"InstallmentPlans\",\n",
        "        \"Housing\", \"ExistingCreditsCount\", \"Job\", \"Dependents\",\n",
        "        \"ForeignWorker\",\n",
        "    ],\n",
        "    col_dtypes=[\n",
        "        np.dtype(\"float32\"), np.dtype(\"float32\"), np.dtype(\"float32\"),\n",
        "        np.dtype(\"float32\"), np.dtype(\"float32\"), np.dtype(\"float32\"),\n",
        "        np.dtype(\"float32\"), np.dtype(\"float32\"), np.dtype(\"float32\"),\n",
        "        np.dtype(\"float32\"), np.dtype(\"float32\"), np.dtype(\"float32\"),\n",
        "        np.dtype(\"float32\"), np.dtype(\"float32\"), np.dtype(\"float32\"),\n",
        "        np.dtype(\"float32\"), np.dtype(\"float32\"), np.dtype(\"float32\"),\n",
        "        np.dtype(\"float32\"),\n",
        "    ],\n",
        ")\n",
        "fs1 = FS1(\n",
        "    cols_ids_must_keep=range(0, 19),\n",
        "    additional_col_count_to_keep=15,\n",
        "    ptype=\"classification\",\n",
        ")\n",
        "xgb_classifier = XGBClassifier(\n",
        "    gamma=1,\n",
        "    learning_rate=0.02,\n",
        "    max_depth=6,\n",
        "    min_child_weight=13,\n",
        "    missing=float(\"nan\"),\n",
        "    n_estimators=250,\n",
        "    n_jobs=CPU_NUMBER,\n",
        "    random_state=33,\n",
        "    reg_alpha=1,\n",
        "    reg_lambda=0.35144686991438445,\n",
        "    subsample=0.9130483152713249,\n",
        "    tree_method=\"hist\",\n",
        "    verbosity=0,\n",
        "    silent=True,\n",
        ")\n"
      ]
    },
    {
      "cell_type": "markdown",
      "metadata": {
        "id": "kniEF4XBm4LF"
      },
      "source": [
        "#### Pipeline."
      ]
    },
    {
      "cell_type": "code",
      "execution_count": null,
      "metadata": {
        "pycharm": {
          "is_executing": true,
          "name": "#%%\n"
        },
        "id": "117J4oA7m4LF"
      },
      "outputs": [],
      "source": [
        "pipeline = make_pipeline(union, numpy_permute_array, tam, fs1, xgb_classifier)"
      ]
    },
    {
      "cell_type": "markdown",
      "metadata": {
        "id": "23y-pHTam4LF"
      },
      "source": [
        "<a id=\"train\"></a>\n",
        "## Train pipeline model\n"
      ]
    },
    {
      "cell_type": "markdown",
      "metadata": {
        "pycharm": {
          "name": "#%% md\n"
        },
        "id": "fGetW-qAm4LF"
      },
      "source": [
        "### Define scorer from the optimization metric\n",
        "This cell constructs the cell scorer based on the experiment metadata."
      ]
    },
    {
      "cell_type": "code",
      "execution_count": null,
      "metadata": {
        "pycharm": {
          "is_executing": true,
          "name": "#%%\n"
        },
        "id": "HmMZy-JRm4LG"
      },
      "outputs": [],
      "source": [
        "from sklearn.metrics import get_scorer\n",
        "\n",
        "scorer = get_scorer(experiment_metadata['scoring'])"
      ]
    },
    {
      "cell_type": "markdown",
      "metadata": {
        "pycharm": {
          "name": "#%% md\n"
        },
        "id": "K-JKB9h5m4LG"
      },
      "source": [
        "<a id=\"test_model\"></a>\n",
        "### Fit pipeline model\n",
        "In this cell, the pipeline is fitted."
      ]
    },
    {
      "cell_type": "code",
      "execution_count": null,
      "metadata": {
        "execution": {
          "iopub.execute_input": "2020-10-12T14:01:19.291734Z",
          "iopub.status.busy": "2020-10-12T14:01:19.244735Z",
          "iopub.status.idle": "2020-10-12T14:01:19.338461Z",
          "shell.execute_reply": "2020-10-12T14:01:19.338958Z"
        },
        "pycharm": {
          "is_executing": true,
          "name": "#%%\n"
        },
        "scrolled": true,
        "id": "3IMsNvBCm4LG"
      },
      "outputs": [],
      "source": [
        "pipeline.fit(X_train.values, y_train.values.ravel());"
      ]
    },
    {
      "cell_type": "markdown",
      "metadata": {
        "id": "ABk5aK6Km4LG"
      },
      "source": [
        "<a id=\"test_model\"></a>\n",
        "## Test pipeline model"
      ]
    },
    {
      "cell_type": "markdown",
      "metadata": {
        "pycharm": {
          "name": "#%% md\n"
        },
        "id": "dHV19IA0m4LG"
      },
      "source": [
        "Score the fitted pipeline with the generated scorer using the holdout dataset."
      ]
    },
    {
      "cell_type": "code",
      "execution_count": null,
      "metadata": {
        "execution": {
          "iopub.execute_input": "2020-10-12T14:02:03.910267Z",
          "iopub.status.busy": "2020-10-12T14:02:03.909710Z",
          "iopub.status.idle": "2020-10-12T14:02:03.914154Z",
          "shell.execute_reply": "2020-10-12T14:02:03.914727Z"
        },
        "pycharm": {
          "is_executing": true,
          "name": "#%%\n"
        },
        "colab": {
          "base_uri": "https://localhost:8080/"
        },
        "id": "S0cUsYA3m4LG",
        "outputId": "47d73325-8d6d-4d1c-fe6b-91cecfa71f45"
      },
      "outputs": [
        {
          "output_type": "stream",
          "name": "stdout",
          "text": [
            "0.7915831663326653\n"
          ]
        }
      ],
      "source": [
        "score = scorer(pipeline, X_test.values, y_test.values)\n",
        "print(score)"
      ]
    },
    {
      "cell_type": "code",
      "source": [
        "import matplotlib.pyplot as plt\n",
        "import seaborn as sns\n",
        "from sklearn.metrics import ConfusionMatrixDisplay, confusion_matrix\n",
        "\n",
        "# Faça as previsões no conjunto de teste (se ainda não as fez)\n",
        "# y_pred = pipeline.predict(X_test.values)\n",
        "\n",
        "# # Crie a exibição da matriz de confusão normalizada pelas verdadeiras condições\n",
        "# disp = ConfusionMatrixDisplay.from_predictions(y_test.values.ravel(), y_pred, normalize='true')\n",
        "\n",
        "y_pred = pipeline.predict(X_test.values)\n",
        "\n",
        "# Generate the confusion matrix\n",
        "cm = confusion_matrix(y_test, y_pred)\n",
        "\n",
        "class_names = ['No Risk', 'Risk']\n",
        "\n",
        "# Create a Confusion Matrix\n",
        "plt.figure(figsize=(8, 8))\n",
        "sns.heatmap(cm, annot=True, fmt='d', cmap='Greens', xticklabels=class_names, yticklabels=class_names)\n",
        "plt.title('Confusion Matrix')\n",
        "plt.ylabel('True label')\n",
        "plt.xlabel('Predicted label')\n",
        "plt.show()"
      ],
      "metadata": {
        "colab": {
          "base_uri": "https://localhost:8080/",
          "height": 689
        },
        "id": "Z6mhneDorKek",
        "outputId": "993ebf27-ab32-4307-f66f-cf0398d9bf53"
      },
      "execution_count": null,
      "outputs": [
        {
          "output_type": "display_data",
          "data": {
            "text/plain": [
              "<Figure size 800x800 with 2 Axes>"
            ],
            "image/png": "[encoded data removed]"
          },
          "metadata": {}
        }
      ]
    },
    {
      "cell_type": "code",
      "execution_count": null,
      "metadata": {
        "pycharm": {
          "name": "#%%\n"
        },
        "colab": {
          "base_uri": "https://localhost:8080/"
        },
        "id": "B3qwwV6Wm4LG",
        "outputId": "36437b4b-bcf2-41b4-f195-0316c97ffb11"
      },
      "outputs": [
        {
          "output_type": "execute_result",
          "data": {
            "text/plain": [
              "array(['No Risk', 'No Risk', 'No Risk', 'No Risk', 'No Risk'],\n",
              "      dtype=object)"
            ]
          },
          "metadata": {},
          "execution_count": 16
        }
      ],
      "source": [
        "pipeline.predict(X_test.values[:5])"
      ]
    },
    {
      "cell_type": "markdown",
      "metadata": {
        "id": "GnP3IVlmm4LG"
      },
      "source": [
        "<a id=\"saving\"></a>\n",
        "## Store the model\n",
        "\n",
        "In this section you will learn how to store the trained model."
      ]
    },
    {
      "cell_type": "code",
      "execution_count": null,
      "metadata": {
        "id": "-BJts85Cm4LG"
      },
      "outputs": [],
      "source": [
        "model_metadata = {\n",
        "    client.repository.ModelMetaNames.NAME: 'P4 - Pretrained AutoAI pipeline'\n",
        "}\n",
        "\n",
        "stored_model_details = client.repository.store_model(model=pipeline, meta_props=model_metadata, experiment_metadata=experiment_metadata)"
      ]
    },
    {
      "cell_type": "markdown",
      "metadata": {
        "id": "Pqpb7mzXm4LK"
      },
      "source": [
        "Inspect the stored model details."
      ]
    },
    {
      "cell_type": "code",
      "execution_count": null,
      "metadata": {
        "colab": {
          "base_uri": "https://localhost:8080/"
        },
        "id": "mhMjw4A-m4LK",
        "outputId": "95399583-48a7-475e-ab8b-88ebf7d389ec"
      },
      "outputs": [
        {
          "output_type": "execute_result",
          "data": {
            "text/plain": [
              "{'entity': {'hybrid_pipeline_software_specs': [{'id': '82f1bc6d-59c3-55e8-b612-cd908a2f7cc7',\n",
              "    'name': 'autoai-kb_rt24.1-py3.11'}],\n",
              "  'label_column': 'Risk',\n",
              "  'pipeline': {'id': 'a271eef0-3a49-4665-af38-a18c24ca4cde'},\n",
              "  'schemas': {'input': [{'fields': [{'name': 'CheckingStatus',\n",
              "       'type': 'other'},\n",
              "      {'name': 'LoanDuration', 'type': 'double'},\n",
              "      {'name': 'CreditHistory', 'type': 'other'},\n",
              "      {'name': 'LoanPurpose', 'type': 'other'},\n",
              "      {'name': 'LoanAmount', 'type': 'double'},\n",
              "      {'name': 'ExistingSavings', 'type': 'other'},\n",
              "      {'name': 'EmploymentDuration', 'type': 'other'},\n",
              "      {'name': 'InstallmentPercent', 'type': 'double'},\n",
              "      {'name': 'Sex', 'type': 'other'},\n",
              "      {'name': 'OthersOnLoan', 'type': 'other'},\n",
              "      {'name': 'CurrentResidenceDuration', 'type': 'double'},\n",
              "      {'name': 'OwnsProperty', 'type': 'other'},\n",
              "      {'name': 'Age', 'type': 'double'},\n",
              "      {'name': 'InstallmentPlans', 'type': 'other'},\n",
              "      {'name': 'Housing', 'type': 'other'},\n",
              "      {'name': 'ExistingCreditsCount', 'type': 'double'},\n",
              "      {'name': 'Job', 'type': 'other'},\n",
              "      {'name': 'Dependents', 'type': 'double'},\n",
              "      {'name': 'Telephone', 'type': 'other'},\n",
              "      {'name': 'ForeignWorker', 'type': 'other'}],\n",
              "     'id': '1',\n",
              "     'type': 'struct'}],\n",
              "   'output': []},\n",
              "  'software_spec': {'id': '8c1a58c6-62b5-4dc4-987a-df751c2756b6',\n",
              "   'name': 'hybrid_0.1'},\n",
              "  'training_data_references': [{'location': {'href': '/v2/assets/565235f5-2802-43fd-af8c-bd2e50cff201?project_id=53f5ac35-4b57-48dc-9971-d3a4032814ae',\n",
              "     'id': '565235f5-2802-43fd-af8c-bd2e50cff201'},\n",
              "    'schema': {'fields': [{'name': 'CheckingStatus', 'type': 'other'},\n",
              "      {'name': 'LoanDuration', 'type': 'double'},\n",
              "      {'name': 'CreditHistory', 'type': 'other'},\n",
              "      {'name': 'LoanPurpose', 'type': 'other'},\n",
              "      {'name': 'LoanAmount', 'type': 'double'},\n",
              "      {'name': 'ExistingSavings', 'type': 'other'},\n",
              "      {'name': 'EmploymentDuration', 'type': 'other'},\n",
              "      {'name': 'InstallmentPercent', 'type': 'double'},\n",
              "      {'name': 'Sex', 'type': 'other'},\n",
              "      {'name': 'OthersOnLoan', 'type': 'other'},\n",
              "      {'name': 'CurrentResidenceDuration', 'type': 'double'},\n",
              "      {'name': 'OwnsProperty', 'type': 'other'},\n",
              "      {'name': 'Age', 'type': 'double'},\n",
              "      {'name': 'InstallmentPlans', 'type': 'other'},\n",
              "      {'name': 'Housing', 'type': 'other'},\n",
              "      {'name': 'ExistingCreditsCount', 'type': 'double'},\n",
              "      {'name': 'Job', 'type': 'other'},\n",
              "      {'name': 'Dependents', 'type': 'double'},\n",
              "      {'name': 'Telephone', 'type': 'other'},\n",
              "      {'name': 'ForeignWorker', 'type': 'other'},\n",
              "      {'name': 'Risk', 'type': 'other'}],\n",
              "     'id': 'auto_ai_kb_input_schema'},\n",
              "    'type': 'data_asset'}],\n",
              "  'type': 'wml-hybrid_0.1'},\n",
              " 'metadata': {'created_at': '2025-06-18T20:11:03.597Z',\n",
              "  'id': '74e42ad6-eb85-4049-80e1-7ea519ace850',\n",
              "  'modified_at': '2025-06-18T20:11:13.399Z',\n",
              "  'name': 'P4 - Pretrained AutoAI pipeline',\n",
              "  'owner': 'IBMid-694000J6HS',\n",
              "  'project_id': '53f5ac35-4b57-48dc-9971-d3a4032814ae',\n",
              "  'resource_key': 'fbf2da21-dfa2-487f-ac02-9ee13c95adbe'},\n",
              " 'system': {'warnings': []}}"
            ]
          },
          "metadata": {},
          "execution_count": 20
        }
      ],
      "source": [
        "stored_model_details"
      ]
    },
    {
      "cell_type": "markdown",
      "metadata": {
        "jupyter": {
          "outputs_hidden": false
        },
        "id": "iB6Nr6pem4LK"
      },
      "source": [
        "<a id=\"deployment\"></a>\n",
        "## Create online deployment"
      ]
    },
    {
      "cell_type": "markdown",
      "metadata": {
        "jupyter": {
          "outputs_hidden": false
        },
        "id": "Gy6TV_Qjm4LK"
      },
      "source": [
        "You can use the commands below to promote the model to space and create online deployment (web service).\n",
        "\n",
        "<a id=\"working_spaces\"></a>\n",
        "### Working with spaces\n",
        "\n",
        "In this section you will specify a deployment space for organizing the assets for deploying and scoring the model. If you do not have an existing space, you can use [Deployment Spaces Dashboard](/ml-runtime/spaces?context=wx) to create a new space, following these steps:\n",
        "\n",
        "- Click **New Deployment Space**.\n",
        "- Create an empty space.\n",
        "- Select Cloud Object Storage.\n",
        "- Select Watson Machine Learning instance and press **Create**.\n",
        "- Copy `space_id` and paste it below.\n",
        "\n",
        "**Tip**: You can also use the API to prepare the space for your work. Learn more [here](https://github.com/IBM/watson-machine-learning-samples/blob/master/cloud/notebooks/python_sdk/instance-management/Space%20management.ipynb).\n",
        "\n",
        "**Info**: Below cells are `raw` type - in order to run them, change their type to `code` and run them (no need to restart the notebook). You may need to add some additional info (see the **action** below).\n",
        "\n",
        "**Action**: Assign or update space ID below."
      ]
    },
    {
      "cell_type": "raw",
      "metadata": {
        "jupyter": {
          "outputs_hidden": false
        },
        "id": "D6L_rtQbm4LK"
      },
      "source": [
        "space_id = \"PUT_YOUR_SPACE_ID_HERE\"\n",
        "\n",
        "model_id = client.spaces.promote(asset_id=stored_model_details[\"metadata\"][\"id\"], source_project_id=experiment_metadata[\"project_id\"], target_space_id=space_id)"
      ]
    },
    {
      "cell_type": "markdown",
      "metadata": {
        "jupyter": {
          "outputs_hidden": false
        },
        "id": "_bdokka4m4LK"
      },
      "source": [
        "#### Prepare online deployment"
      ]
    },
    {
      "cell_type": "raw",
      "metadata": {
        "jupyter": {
          "outputs_hidden": false
        },
        "id": "E_NTz9IIm4LL"
      },
      "source": [
        "client.set.default_space(space_id)\n",
        "\n",
        "deploy_meta = {\n",
        "        client.deployments.ConfigurationMetaNames.NAME: \"Incrementally trained AutoAI pipeline\",\n",
        "        client.deployments.ConfigurationMetaNames.ONLINE: {},\n",
        "    }\n",
        "\n",
        "deployment_details = client.deployments.create(artifact_uid=model_id, meta_props=deploy_meta)\n",
        "deployment_id = client.deployments.get_id(deployment_details)"
      ]
    },
    {
      "cell_type": "markdown",
      "metadata": {
        "jupyter": {
          "outputs_hidden": false
        },
        "id": "iipbCTMWm4LL"
      },
      "source": [
        "#### Test online deployment"
      ]
    },
    {
      "cell_type": "raw",
      "metadata": {
        "jupyter": {
          "outputs_hidden": false
        },
        "id": "UV_cB7c3m4LL"
      },
      "source": [
        "import pandas as pd\n",
        "\n",
        "scoring_payload = {\n",
        "    \"input_data\": [{\n",
        "        'values': pd.DataFrame(X_test[:5])\n",
        "    }]\n",
        "}\n",
        "\n",
        "client.deployments.score(deployment_id, scoring_payload)"
      ]
    },
    {
      "cell_type": "markdown",
      "metadata": {
        "jupyter": {
          "outputs_hidden": false
        },
        "id": "IzpkjYFIm4LL"
      },
      "source": [
        "<a id=\"cleanup\"></a>\n",
        "### Deleting deployment\n",
        "You can delete the existing deployment by calling the `client.deployments.delete(deployment_id)` command.\n",
        "To list the existing web services, use `client.deployments.list()`."
      ]
    },
    {
      "cell_type": "markdown",
      "metadata": {
        "id": "9jK_mcR7m4LL"
      },
      "source": [
        "<a id=\"summary_and_next_steps\"></a>\n",
        "# Summary and next steps\n",
        "You successfully completed this notebook!\n",
        "You learned how to use AutoAI pipeline definition to train the model.\n",
        "Check out our [Online Documentation](https://www.ibm.com/cloud/watson-studio/autoai) for more samples, tutorials, documentation, how-tos, and blog posts."
      ]
    },
    {
      "cell_type": "markdown",
      "metadata": {
        "id": "dTyEyLmdm4LL"
      },
      "source": [
        "<a id=\"copyrights\"></a>\n",
        "### Copyrights\n",
        "\n",
        "Licensed Materials - Copyright © 2025 IBM. This notebook and its source code are released under the terms of the ILAN License. Use, duplication disclosure restricted by GSA ADP Schedule Contract with IBM Corp.\n",
        "\n",
        "**Note:** The auto-generated notebooks are subject to the International License Agreement for Non-Warranted Programs (or equivalent) and License Information document for Watson Studio Auto-generated Notebook (License Terms), such agreements located in the link below. Specifically, the Source Components and Sample Materials clause included in the License Information document for Watson Studio Auto-generated Notebook applies to the auto-generated notebooks.  \n",
        "\n",
        "By downloading, copying, accessing, or otherwise using the materials, you agree to the <a href=\"https://www14.software.ibm.com/cgi-bin/weblap/lap.pl?li_formnum=L-AMCU-BYC7LF\">License Terms</a>\n",
        "\n",
        "___"
      ]
    }
  ],
  "metadata": {
    "kernelspec": {
      "display_name": "Python 3",
      "name": "python3"
    },
    "language_info": {
      "codemirror_mode": {
        "name": "ipython",
        "version": 3
      },
      "file_extension": ".py",
      "mimetype": "text/x-python",
      "name": "python",
      "nbconvert_exporter": "python",
      "pygments_lexer": "ipython3",
      "version": "3.11.5"
    },
    "colab": {
      "provenance": [],
      "gpuType": "T4"
    },
    "accelerator": "GPU"
  },
  "nbformat": 4,
  "nbformat_minor": 0
}